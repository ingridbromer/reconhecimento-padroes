{
 "cells": [
  {
   "cell_type": "code",
   "execution_count": 11,
   "id": "0091951e-cefe-44da-a6c2-2613d7104816",
   "metadata": {},
   "outputs": [
    {
     "name": "stdout",
     "output_type": "stream",
     "text": [
      "12 imagens com prefixo comum copiadas com sucesso.\n"
     ]
    }
   ],
   "source": [
    "import os\n",
    "import shutil\n",
    "\n",
    "## Nao houve compatibilidade entre celulas falso negativas, portanto, a busca foi pela lamina\n",
    "# Diretórios de origem\n",
    "origens = [\n",
    "    \"E:/datasets/imagens/erradas/2classes/falso-negativo\",\n",
    "    \"E:/datasets/imagens/erradas/3classes/falso-negativo\",\n",
    "    \"E:/datasets/imagens/erradas/6classes/falso-negativo\"\n",
    "]\n",
    "\n",
    "# Diretório de destino\n",
    "destino = \"E:/datasets/imagens/erradas/falsos-negativos-compartilhados\"\n",
    "os.makedirs(destino, exist_ok=True)\n",
    "\n",
    "# Função para extrair o prefixo antes de \"_celula\"\n",
    "def extrair_prefixo(nome):\n",
    "    if \"_celula\" in nome:\n",
    "        return nome.split(\"_celula\")[0]\n",
    "    return None\n",
    "\n",
    "# Coleta os prefixos de cada diretório\n",
    "prefixos_por_diretorio = []\n",
    "arquivos_por_prefixo = []\n",
    "\n",
    "for origem in origens:\n",
    "    prefixos = set()\n",
    "    arquivos = dict()\n",
    "    for nome in os.listdir(origem):\n",
    "        caminho = os.path.join(origem, nome)\n",
    "        if os.path.isfile(caminho):\n",
    "            prefixo = extrair_prefixo(nome)\n",
    "            if prefixo:\n",
    "                prefixos.add(prefixo)\n",
    "                # Salva o caminho do primeiro arquivo encontrado com esse prefixo\n",
    "                if prefixo not in arquivos:\n",
    "                    arquivos[prefixo] = caminho\n",
    "    prefixos_por_diretorio.append(prefixos)\n",
    "    arquivos_por_prefixo.append(arquivos)\n",
    "\n",
    "# Encontra prefixos comuns a todos os diretórios\n",
    "prefixos_comuns = set.intersection(*prefixos_por_diretorio)\n",
    "\n",
    "# Copia um arquivo representando cada prefixo comum (usando o primeiro diretório como base)\n",
    "arquivos_base = arquivos_por_prefixo[0]\n",
    "for prefixo in prefixos_comuns:\n",
    "    caminho_origem = arquivos_base[prefixo]\n",
    "    nome_arquivo = os.path.basename(caminho_origem)\n",
    "    destino_arquivo = os.path.join(destino, nome_arquivo)\n",
    "    if not os.path.exists(destino_arquivo):\n",
    "        shutil.copy2(caminho_origem, destino_arquivo)\n",
    "\n",
    "print(f\"{len(prefixos_comuns)} imagens com prefixo comum copiadas com sucesso.\")\n"
   ]
  },
  {
   "cell_type": "code",
   "execution_count": null,
   "id": "aac7065a-02fe-4ec5-ab26-3a65bebde713",
   "metadata": {},
   "outputs": [],
   "source": []
  }
 ],
 "metadata": {
  "kernelspec": {
   "display_name": "Python 3 (ipykernel)",
   "language": "python",
   "name": "python3"
  },
  "language_info": {
   "codemirror_mode": {
    "name": "ipython",
    "version": 3
   },
   "file_extension": ".py",
   "mimetype": "text/x-python",
   "name": "python",
   "nbconvert_exporter": "python",
   "pygments_lexer": "ipython3",
   "version": "3.12.4"
  }
 },
 "nbformat": 4,
 "nbformat_minor": 5
}
